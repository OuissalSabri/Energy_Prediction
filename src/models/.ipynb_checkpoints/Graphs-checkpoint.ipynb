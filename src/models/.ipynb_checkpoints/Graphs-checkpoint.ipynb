{
 "cells": [
  {
   "cell_type": "code",
   "execution_count": 11,
   "metadata": {},
   "outputs": [],
   "source": [
    "import pickle\n",
    "import datetime\n",
    "import requests\n",
    "import numpy as np\n",
    "import pandas as pd\n",
    "import matplotlib.pyplot as plt\n",
    "from IPython.display import clear_output\n",
    "from matplotlib.dates import DateFormatter"
   ]
  },
  {
   "cell_type": "code",
   "execution_count": 12,
   "metadata": {},
   "outputs": [],
   "source": [
    "with open('../model.pkl', 'rb') as f:\n",
    "    model = pickle.load(f)"
   ]
  },
  {
   "cell_type": "code",
   "execution_count": 13,
   "metadata": {},
   "outputs": [],
   "source": [
    "temp_store = {}"
   ]
  },
  {
   "cell_type": "markdown",
   "metadata": {},
   "source": [
    "## API call to store temperature"
   ]
  },
  {
   "cell_type": "code",
   "execution_count": 14,
   "metadata": {
    "scrolled": true
   },
   "outputs": [
    {
     "name": "stdout",
     "output_type": "stream",
     "text": [
      "2023-12-09 00:00:00 66.31\n",
      "\n",
      "\n",
      "2023-12-09 03:00:00 69.93\n",
      "\n",
      "\n",
      "2023-12-09 06:00:00 79.81\n",
      "\n",
      "\n",
      "2023-12-09 09:00:00 82.63\n",
      "\n",
      "\n",
      "2023-12-09 12:00:00 78.57\n",
      "\n",
      "\n",
      "2023-12-09 15:00:00 74.7\n",
      "\n",
      "\n",
      "2023-12-09 18:00:00 71.02\n",
      "\n",
      "\n",
      "2023-12-09 21:00:00 68.45\n",
      "\n",
      "\n",
      "2023-12-10 00:00:00 66.74\n",
      "\n",
      "\n",
      "2023-12-10 03:00:00 72.07\n",
      "\n",
      "\n",
      "2023-12-10 06:00:00 79.97\n",
      "\n",
      "\n",
      "2023-12-10 09:00:00 83.05\n",
      "\n",
      "\n",
      "2023-12-10 12:00:00 77.81\n",
      "\n",
      "\n",
      "2023-12-10 15:00:00 72.27\n",
      "\n",
      "\n",
      "2023-12-10 18:00:00 69.08\n",
      "\n",
      "\n",
      "2023-12-10 21:00:00 67.1\n",
      "\n",
      "\n",
      "2023-12-11 00:00:00 65.59\n",
      "\n",
      "\n",
      "2023-12-11 03:00:00 71.11\n",
      "\n",
      "\n",
      "2023-12-11 06:00:00 79.88\n",
      "\n",
      "\n",
      "2023-12-11 09:00:00 83.07\n",
      "\n",
      "\n",
      "2023-12-11 12:00:00 77.72\n",
      "\n",
      "\n",
      "2023-12-11 15:00:00 71.51\n",
      "\n",
      "\n",
      "2023-12-11 18:00:00 68.56\n",
      "\n",
      "\n",
      "2023-12-11 21:00:00 66.61\n",
      "\n",
      "\n",
      "2023-12-12 00:00:00 64.96\n",
      "\n",
      "\n",
      "2023-12-12 03:00:00 70.12\n",
      "\n",
      "\n",
      "2023-12-12 06:00:00 79.02\n",
      "\n",
      "\n",
      "2023-12-12 09:00:00 82.02\n",
      "\n",
      "\n",
      "2023-12-12 12:00:00 76.95\n",
      "\n",
      "\n",
      "2023-12-12 15:00:00 71.62\n",
      "\n",
      "\n",
      "2023-12-12 18:00:00 68.95\n",
      "\n",
      "\n",
      "2023-12-12 21:00:00 67.19\n",
      "\n",
      "\n",
      "2023-12-13 00:00:00 65.55\n",
      "\n",
      "\n",
      "2023-12-13 03:00:00 70.72\n",
      "\n",
      "\n",
      "2023-12-13 06:00:00 79.99\n",
      "\n",
      "\n",
      "2023-12-13 09:00:00 82.47\n",
      "\n",
      "\n",
      "2023-12-13 12:00:00 77.13\n",
      "\n",
      "\n",
      "2023-12-13 15:00:00 71.74\n",
      "\n",
      "\n",
      "2023-12-13 18:00:00 68.94\n",
      "\n",
      "\n",
      "2023-12-13 21:00:00 66.99\n",
      "\n",
      "\n"
     ]
    }
   ],
   "source": [
    "sum = 0\n",
    "cnt = 0\n",
    "secSteps = 3600\n",
    "URL = \"http://api.openweathermap.org/data/2.5/forecast?id=1269843&appid=95e286bae5647877dbb924f3779736a8&units=imperial\"\n",
    "r = requests.get(url=URL)\n",
    "data = r.json()\n",
    "for ind in range(len(data['list'])):\n",
    "    dt = data['list'][ind]['dt_txt']\n",
    "    temp = data['list'][ind]['main']['temp']\n",
    "    print(dt,temp)\n",
    "    print('\\n')\n",
    "    sum += temp*3\n",
    "    cnt += 3\n",
    "    temp_store[dt] = temp\n",
    "    dt = datetime.datetime.strptime(dt,'%Y-%m-%d %H:%M:%S')\n",
    "    dt += datetime.timedelta(seconds=secSteps)\n",
    "    temp_store[str(dt)] = temp\n",
    "    dt += datetime.timedelta(seconds=secSteps)\n",
    "    temp_store[str(dt)] = temp\n",
    "\n",
    "avg_temp = sum/cnt"
   ]
  },
  {
   "cell_type": "code",
   "execution_count": 15,
   "metadata": {},
   "outputs": [
    {
     "name": "stdout",
     "output_type": "stream",
     "text": [
      "73.198\n"
     ]
    }
   ],
   "source": [
    "print(avg_temp)"
   ]
  },
  {
   "cell_type": "code",
   "execution_count": 16,
   "metadata": {},
   "outputs": [],
   "source": [
    "# # from datetime import datetime\n",
    "# # import matplotlib.pyplot as plt\n",
    "# # from matplotlib.dates import DateFormatter\n",
    "\n",
    "# myDates = [datetime(2012,1,i+3) for i in range(10)]\n",
    "# myValues = [5,6,4,3,7,8,1,2,5,4]\n",
    "# fig, ax = plt.subplots()\n",
    "# ax.plot(myDates,myValues)\n",
    "\n",
    "# myFmt = DateFormatter(\"%d\")\n",
    "# ax.xaxis.set_major_formatter(myFmt)\n",
    "\n",
    "# ## Rotate date labels automatically\n",
    "# fig.autofmt_xdate()\n",
    "# plt.show()"
   ]
  },
  {
   "cell_type": "code",
   "execution_count": 17,
   "metadata": {},
   "outputs": [],
   "source": [
    "def predict(data):\n",
    "    test = pd.DataFrame([data], columns = ['ds']) \n",
    "    try:\n",
    "        test['temp'] = temp_store[str(data)]\n",
    "    except:\n",
    "        test['temp'] = avg_temp\n",
    "    val = model.predict(test)\n",
    "    return np.exp(val['yhat'])"
   ]
  },
  {
   "cell_type": "code",
   "execution_count": 18,
   "metadata": {},
   "outputs": [],
   "source": [
    "def plot():\n",
    "    clear_output(wait=True)    \n",
    "    plt.figure(figsize=(12,5))\n",
    "    fig, ax = plt.subplots()\n",
    "    ax.plot(x,y)\n",
    "#     myFmt = DateFormatter(\"%d\")\n",
    "#     ax.xaxis.set_major_formatter(myFmt)\n",
    "    plt.xlabel('DateTime') \n",
    "    plt.ylabel('Predicted Value') \n",
    "    plt.title('Prediction over a time period') \n",
    "    fig.autofmt_xdate()\n",
    "    plt.show() "
   ]
  },
  {
   "cell_type": "code",
   "execution_count": 19,
   "metadata": {},
   "outputs": [],
   "source": [
    "x = []\n",
    "y = []"
   ]
  },
  {
   "cell_type": "code",
   "execution_count": 20,
   "metadata": {},
   "outputs": [
    {
     "data": {
      "text/plain": [
       "<Figure size 1200x500 with 0 Axes>"
      ]
     },
     "metadata": {},
     "output_type": "display_data"
    },
    {
     "data": {
      "image/png": "[encoded data removed]",
      "text/plain": [
       "<Figure size 640x480 with 1 Axes>"
      ]
     },
     "metadata": {},
     "output_type": "display_data"
    },
    {
     "name": "stdout",
     "output_type": "stream",
     "text": [
      "2020-04-27 23:00:00 0    157.050862\n",
      "Name: yhat, dtype: float64\n"
     ]
    }
   ],
   "source": [
    "def runDay(date,secSteps):    \n",
    "    startDay = date.replace(hour= 0, minute= 0, second= 0)\n",
    "    endDay   = date.replace(hour=23, minute=59, second=59)\n",
    "    day = startDay\n",
    "    while day <= endDay:\n",
    "        x.append(day)\n",
    "        val = predict(day)\n",
    "        y.append(val)\n",
    "        plot()\n",
    "        print(day,val)\n",
    "        day += datetime.timedelta(seconds=secSteps)\n",
    "\n",
    "firstDate = datetime.datetime(2020,4,27,0,0,0)\n",
    "lastDate  = datetime.datetime(2020,4,27,8,0,0)\n",
    "daySteps  = 1\n",
    "secSteps = 3600\n",
    "\n",
    "date = firstDate\n",
    "while date <= lastDate:\n",
    "    NumberOfDay = date.timetuple()[7]\n",
    "    runDay(date,secSteps)\n",
    "    date += datetime.timedelta(days=daySteps)"
   ]
  },
  {
   "cell_type": "code",
   "execution_count": null,
   "metadata": {},
   "outputs": [],
   "source": []
  }
 ],
 "metadata": {
  "kernelspec": {
   "display_name": "Python 3",
   "language": "python",
   "name": "python3"
  },
  "language_info": {
   "codemirror_mode": {
    "name": "ipython",
    "version": 3
   },
   "file_extension": ".py",
   "mimetype": "text/x-python",
   "name": "python",
   "nbconvert_exporter": "python",
   "pygments_lexer": "ipython3",
   "version": "3.11.5"
  }
 },
 "nbformat": 4,
 "nbformat_minor": 2
}
